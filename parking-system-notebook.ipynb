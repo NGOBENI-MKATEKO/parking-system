{
 "cells": [
  {
   "cell_type": "code",
   "execution_count": null,
   "metadata": {},
   "outputs": [],
   "source": [
    "import qrcode\n",
    "from pyzbar import pyzbar\n",
    "from PIL import Image\n",
    "import serial\n",
    "import cv2\n",
    "from time import time , ctime\n",
    "\n"
   ]
  },
  {
   "cell_type": "markdown",
   "metadata": {},
   "source": [
    "# Register a client"
   ]
  },
  {
   "cell_type": "code",
   "execution_count": null,
   "metadata": {},
   "outputs": [],
   "source": [
    "from unittest import result\n",
    "import pandas as pd\n",
    "import random\n",
    "import string\n",
    "\n",
    "global database\n",
    "database = pd.DataFrame(\n",
    "    {\n",
    "        \"Identifier\":[],\n",
    "        \"name\": [],\n",
    "        \"surname\": [],\n",
    "        \"balance\": []\n",
    "    })\n",
    "\n",
    "def getIdentifier(length):\n",
    "    # With combination of lower and upper case\n",
    "    \n",
    "    result_str = ''.join(random.choice(string.ascii_letters) for i in range(length))\n",
    "    while(True):\n",
    "        if len(database[database[\"Identifier\"].str.contains(result_str)]) != 0:\n",
    "            result_str = ''.join(random.choice(string.ascii_letters) for i in range(length))\n",
    "        else:\n",
    "            break\n",
    "    # print random string\n",
    "    return result_str\n",
    "\n",
    "\n",
    "def addCustomer(name , surname,balance):\n",
    "    Identifier = getIdentifier(13)\n",
    "    database.append( {\n",
    "            \"Identifier\":Identifier,\n",
    "            \"Name\": name,\n",
    "            \"surname\": surname,\n",
    "            \"Balance\": balance\n",
    "            })\n"
   ]
  },
  {
   "cell_type": "code",
   "execution_count": null,
   "metadata": {},
   "outputs": [],
   "source": [
    "addCustomer('tiyani','mabunda','150')"
   ]
  },
  {
   "cell_type": "code",
   "execution_count": null,
   "metadata": {},
   "outputs": [],
   "source": [
    "\n",
    "\n",
    "data = {\n",
    "  \"Identifier\":['user1',],\n",
    "  \"name\": [420, 380, 390],\n",
    "  \"surname\": [50, 40, 45],\n",
    "}\n",
    "\n",
    "#load data into a DataFrame object:\n",
    "df = pd.DataFrame(data)\n",
    "\n",
    "print(df) "
   ]
  },
  {
   "cell_type": "code",
   "execution_count": null,
   "metadata": {},
   "outputs": [],
   "source": [
    "#initialize qr object\n",
    "def SaveQrCode(data): \n",
    "    qr = qrcode.QRCode(\n",
    "        version =1,\n",
    "        box_size =10,\n",
    "        border=6)\n",
    "\n",
    "\n",
    "    #add data to qr code\n",
    "    qr.add_data(data)\n",
    "    qr.make(fit=True)\n",
    "\n",
    "    #create an image of qr code\n",
    "    image = qr.make_image(fill_color=\"black\", back_color= \"white\")\n",
    "\n",
    "    #save on the local machine\n",
    "    image.save(\"TGBqrcode.png\")\n",
    "    print(\"QR code has been generated successfully!\")"
   ]
  },
  {
   "cell_type": "code",
   "execution_count": null,
   "metadata": {},
   "outputs": [],
   "source": [
    "def ReadQrCode():\n",
    "    #load qr code imge\n",
    "    image = Image.open(\"TGBqrcode.png\") \n",
    "\n",
    "    qr_code = pyzbar.decode(image)[0]\n",
    "\n",
    "    #convert into string\n",
    "    data= qr_code.data.decode(\"utf-8\")\n",
    "    type = qr_code.type\n",
    "    text = f\"{type}-->, {data}\"\n",
    "    balance = text.split(\",\")[2]\n",
    "    SaveQrCode(\"car1,\"+str(int(balance)-10))\n",
    "    image.close()\n",
    "   \n",
    "    print(\"New balance = R\"+balance)\n",
    "    print(\"----\")"
   ]
  },
  {
   "cell_type": "code",
   "execution_count": null,
   "metadata": {},
   "outputs": [],
   "source": [
    "Price = 5 # will differ by how much a customer spend in the parking lot"
   ]
  },
  {
   "cell_type": "code",
   "execution_count": null,
   "metadata": {},
   "outputs": [],
   "source": [
    "conectionToArduino = serial.Serial('com6',9600) \n",
    " \n",
    "while (True) :\n",
    "    if(conectionToArduino.inWaiting()>0):\n",
    "        instructions = conectionToArduino.readline()\n",
    "        # camera section \n",
    "\n",
    "        loop = True # ftor controlling web cam\n",
    "        cam = cv2.VideoCapture(0)\n",
    "        scanner = cv2.QRCodeDetector()\n",
    "\n",
    "        while loop:\n",
    "            _,img = cam.read()\n",
    "            data,_,_ = scanner.detectAndDecode(img)\n",
    "            cv2.imshow(\"QRCODE\",img)\n",
    "            cv2.waitKey(500)\n",
    "            if data :\n",
    "                print(str(data))\n",
    "                name, balance, status , timeTrack  = str(data).split(\",\")\n",
    "\n",
    "                numeric_balance = int(balance)\n",
    "                ##SaveQrCode(0)\n",
    "                loop = False\n",
    "                if(int(status) == 1):\n",
    "                    timeSpent= abs(time()-int(timeTrack) )\n",
    "                    print(\"time spent = \"+str(timeSpent)+\"seconds\")\n",
    "                    if timeSpent < 5:\n",
    "                        numeric_balance = int(numeric_balance) - Price\n",
    "                    elif timeSpent >= 5 and timeSpent <10:\n",
    "                        numeric_balance = int(numeric_balance) -( Price*2)\n",
    "                    else:\n",
    "                        numeric_balance = numeric_balance - (Price*3)\n",
    "\n",
    "                    SaveQrCode(name+\",\"+str(numeric_balance)+\",0,0\")\n",
    "                    ReadQrCode()\n",
    "                    \n",
    "                else:\n",
    "                    SaveQrCode(name+\",\"+str(int(numeric_balance))+\",1,\"+str(round(time())))\n",
    "\n",
    "                break \n",
    "            \n",
    "        if cv2.waitKey(1) & 0xFF == 27:\n",
    "            break\n",
    "cv2.destroyAllWindows()\n",
    "        \n",
    "        \n",
    "     "
   ]
  }
 ],
 "metadata": {
  "kernelspec": {
   "display_name": "Python 3.10.4 ('new-env')",
   "language": "python",
   "name": "python3"
  },
  "language_info": {
   "codemirror_mode": {
    "name": "ipython",
    "version": 3
   },
   "file_extension": ".py",
   "mimetype": "text/x-python",
   "name": "python",
   "nbconvert_exporter": "python",
   "pygments_lexer": "ipython3",
   "version": "3.10.4"
  },
  "orig_nbformat": 4,
  "vscode": {
   "interpreter": {
    "hash": "83644a0fbd9933bfd82235b12176084926b40c2b5076544cfb55d0f0381ffd84"
   }
  }
 },
 "nbformat": 4,
 "nbformat_minor": 2
}
