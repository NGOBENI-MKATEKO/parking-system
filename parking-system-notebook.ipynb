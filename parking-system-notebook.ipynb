{
 "cells": [
  {
   "cell_type": "code",
   "execution_count": null,
   "metadata": {},
   "outputs": [],
   "source": [
    "import qrcode\n",
    "from pyzbar import pyzbar\n",
    "from PIL import Image\n",
    "import serial\n",
    "import cv2\n",
    "from time import time , ctime\n",
    "\n"
   ]
  },
  {
   "cell_type": "markdown",
   "metadata": {},
   "source": [
    "# Register a client"
   ]
  },
  {
   "cell_type": "code",
   "execution_count": 5,
   "metadata": {},
   "outputs": [],
   "source": [
    "from unittest import result\n",
    "import pandas as pd\n",
    "import random\n",
    "import string\n",
    "\n",
    "global database\n",
    "database = pd.DataFrame(\n",
    "    {\n",
    "        \"Identifier\":[],\n",
    "        \"name\": [],\n",
    "        \"surname\": [],\n",
    "        \"balance\": []\n",
    "    })\n",
    "\n",
    "def getIdentifier(length):\n",
    "    # With combination of lower and upper case\n",
    "    \n",
    "    result_str = ''.join(random.choice(string.ascii_letters) for i in range(length))\n",
    "    while(True):\n",
    "        if len(database[database[\"Identifier\"].str.contains(result_str)]) != 0:\n",
    "            result_str = ''.join(random.choice(string.ascii_letters) for i in range(length))\n",
    "        else:\n",
    "            break\n",
    "    # print random string\n",
    "    return result_str\n",
    "\n",
    "\n",
    "def addCustomer(name , surname,balance):\n",
    "    Identifier = getIdentifier(13)\n",
    "    database.append( {\n",
    "            \"Identifier\":Identifier,\n",
    "            \"Name\": name,\n",
    "            \"surname\": surname,\n",
    "            \"Balance\": balance\n",
    "            })\n"
   ]
  },
  {
   "cell_type": "code",
   "execution_count": 6,
   "metadata": {},
   "outputs": [
    {
     "ename": "AttributeError",
     "evalue": "Can only use .str accessor with string values!",
     "output_type": "error",
     "traceback": [
      "\u001b[1;31m---------------------------------------------------------------------------\u001b[0m",
      "\u001b[1;31mAttributeError\u001b[0m                            Traceback (most recent call last)",
      "\u001b[1;32me:\\Projects\\candy-project\\parking-system-notebook.ipynb Cell 4\u001b[0m in \u001b[0;36m<cell line: 1>\u001b[1;34m()\u001b[0m\n\u001b[1;32m----> <a href='vscode-notebook-cell:/e%3A/Projects/candy-project/parking-system-notebook.ipynb#X12sZmlsZQ%3D%3D?line=0'>1</a>\u001b[0m addCustomer(\u001b[39m'\u001b[39;49m\u001b[39mtiyani\u001b[39;49m\u001b[39m'\u001b[39;49m,\u001b[39m'\u001b[39;49m\u001b[39mmabunda\u001b[39;49m\u001b[39m'\u001b[39;49m,\u001b[39m'\u001b[39;49m\u001b[39m150\u001b[39;49m\u001b[39m'\u001b[39;49m)\n",
      "\u001b[1;32me:\\Projects\\candy-project\\parking-system-notebook.ipynb Cell 4\u001b[0m in \u001b[0;36maddCustomer\u001b[1;34m(name, surname, balance)\u001b[0m\n\u001b[0;32m     <a href='vscode-notebook-cell:/e%3A/Projects/candy-project/parking-system-notebook.ipynb#X12sZmlsZQ%3D%3D?line=27'>28</a>\u001b[0m \u001b[39mdef\u001b[39;00m \u001b[39maddCustomer\u001b[39m(name , surname,balance):\n\u001b[1;32m---> <a href='vscode-notebook-cell:/e%3A/Projects/candy-project/parking-system-notebook.ipynb#X12sZmlsZQ%3D%3D?line=28'>29</a>\u001b[0m     Identifier \u001b[39m=\u001b[39m getIdentifier(\u001b[39m13\u001b[39;49m)\n\u001b[0;32m     <a href='vscode-notebook-cell:/e%3A/Projects/candy-project/parking-system-notebook.ipynb#X12sZmlsZQ%3D%3D?line=29'>30</a>\u001b[0m     database\u001b[39m.\u001b[39mappend( {\n\u001b[0;32m     <a href='vscode-notebook-cell:/e%3A/Projects/candy-project/parking-system-notebook.ipynb#X12sZmlsZQ%3D%3D?line=30'>31</a>\u001b[0m             \u001b[39m\"\u001b[39m\u001b[39mIdentifier\u001b[39m\u001b[39m\"\u001b[39m:Identifier,\n\u001b[0;32m     <a href='vscode-notebook-cell:/e%3A/Projects/candy-project/parking-system-notebook.ipynb#X12sZmlsZQ%3D%3D?line=31'>32</a>\u001b[0m             \u001b[39m\"\u001b[39m\u001b[39mName\u001b[39m\u001b[39m\"\u001b[39m: name,\n\u001b[0;32m     <a href='vscode-notebook-cell:/e%3A/Projects/candy-project/parking-system-notebook.ipynb#X12sZmlsZQ%3D%3D?line=32'>33</a>\u001b[0m             \u001b[39m\"\u001b[39m\u001b[39msurname\u001b[39m\u001b[39m\"\u001b[39m: surname,\n\u001b[0;32m     <a href='vscode-notebook-cell:/e%3A/Projects/candy-project/parking-system-notebook.ipynb#X12sZmlsZQ%3D%3D?line=33'>34</a>\u001b[0m             \u001b[39m\"\u001b[39m\u001b[39mBalance\u001b[39m\u001b[39m\"\u001b[39m: balance\n\u001b[0;32m     <a href='vscode-notebook-cell:/e%3A/Projects/candy-project/parking-system-notebook.ipynb#X12sZmlsZQ%3D%3D?line=34'>35</a>\u001b[0m             })\n",
      "\u001b[1;32me:\\Projects\\candy-project\\parking-system-notebook.ipynb Cell 4\u001b[0m in \u001b[0;36mgetIdentifier\u001b[1;34m(length)\u001b[0m\n\u001b[0;32m     <a href='vscode-notebook-cell:/e%3A/Projects/candy-project/parking-system-notebook.ipynb#X12sZmlsZQ%3D%3D?line=17'>18</a>\u001b[0m result_str \u001b[39m=\u001b[39m \u001b[39m'\u001b[39m\u001b[39m'\u001b[39m\u001b[39m.\u001b[39mjoin(random\u001b[39m.\u001b[39mchoice(string\u001b[39m.\u001b[39mascii_letters) \u001b[39mfor\u001b[39;00m i \u001b[39min\u001b[39;00m \u001b[39mrange\u001b[39m(length))\n\u001b[0;32m     <a href='vscode-notebook-cell:/e%3A/Projects/candy-project/parking-system-notebook.ipynb#X12sZmlsZQ%3D%3D?line=18'>19</a>\u001b[0m \u001b[39mwhile\u001b[39;00m(\u001b[39mTrue\u001b[39;00m):\n\u001b[1;32m---> <a href='vscode-notebook-cell:/e%3A/Projects/candy-project/parking-system-notebook.ipynb#X12sZmlsZQ%3D%3D?line=19'>20</a>\u001b[0m     \u001b[39mif\u001b[39;00m \u001b[39mlen\u001b[39m(database[database[\u001b[39m\"\u001b[39;49m\u001b[39mIdentifier\u001b[39;49m\u001b[39m\"\u001b[39;49m]\u001b[39m.\u001b[39;49mstr\u001b[39m.\u001b[39mcontains(result_str)]) \u001b[39m!=\u001b[39m \u001b[39m0\u001b[39m:\n\u001b[0;32m     <a href='vscode-notebook-cell:/e%3A/Projects/candy-project/parking-system-notebook.ipynb#X12sZmlsZQ%3D%3D?line=20'>21</a>\u001b[0m         result_str \u001b[39m=\u001b[39m \u001b[39m'\u001b[39m\u001b[39m'\u001b[39m\u001b[39m.\u001b[39mjoin(random\u001b[39m.\u001b[39mchoice(string\u001b[39m.\u001b[39mascii_letters) \u001b[39mfor\u001b[39;00m i \u001b[39min\u001b[39;00m \u001b[39mrange\u001b[39m(length))\n\u001b[0;32m     <a href='vscode-notebook-cell:/e%3A/Projects/candy-project/parking-system-notebook.ipynb#X12sZmlsZQ%3D%3D?line=21'>22</a>\u001b[0m     \u001b[39melse\u001b[39;00m:\n",
      "File \u001b[1;32mc:\\Users\\tiyan\\anaconda3\\envs\\new-env\\lib\\site-packages\\pandas\\core\\generic.py:5575\u001b[0m, in \u001b[0;36mNDFrame.__getattr__\u001b[1;34m(self, name)\u001b[0m\n\u001b[0;32m   5568\u001b[0m \u001b[39mif\u001b[39;00m (\n\u001b[0;32m   5569\u001b[0m     name \u001b[39mnot\u001b[39;00m \u001b[39min\u001b[39;00m \u001b[39mself\u001b[39m\u001b[39m.\u001b[39m_internal_names_set\n\u001b[0;32m   5570\u001b[0m     \u001b[39mand\u001b[39;00m name \u001b[39mnot\u001b[39;00m \u001b[39min\u001b[39;00m \u001b[39mself\u001b[39m\u001b[39m.\u001b[39m_metadata\n\u001b[0;32m   5571\u001b[0m     \u001b[39mand\u001b[39;00m name \u001b[39mnot\u001b[39;00m \u001b[39min\u001b[39;00m \u001b[39mself\u001b[39m\u001b[39m.\u001b[39m_accessors\n\u001b[0;32m   5572\u001b[0m     \u001b[39mand\u001b[39;00m \u001b[39mself\u001b[39m\u001b[39m.\u001b[39m_info_axis\u001b[39m.\u001b[39m_can_hold_identifiers_and_holds_name(name)\n\u001b[0;32m   5573\u001b[0m ):\n\u001b[0;32m   5574\u001b[0m     \u001b[39mreturn\u001b[39;00m \u001b[39mself\u001b[39m[name]\n\u001b[1;32m-> 5575\u001b[0m \u001b[39mreturn\u001b[39;00m \u001b[39mobject\u001b[39;49m\u001b[39m.\u001b[39;49m\u001b[39m__getattribute__\u001b[39;49m(\u001b[39mself\u001b[39;49m, name)\n",
      "File \u001b[1;32mc:\\Users\\tiyan\\anaconda3\\envs\\new-env\\lib\\site-packages\\pandas\\core\\accessor.py:182\u001b[0m, in \u001b[0;36mCachedAccessor.__get__\u001b[1;34m(self, obj, cls)\u001b[0m\n\u001b[0;32m    179\u001b[0m \u001b[39mif\u001b[39;00m obj \u001b[39mis\u001b[39;00m \u001b[39mNone\u001b[39;00m:\n\u001b[0;32m    180\u001b[0m     \u001b[39m# we're accessing the attribute of the class, i.e., Dataset.geo\u001b[39;00m\n\u001b[0;32m    181\u001b[0m     \u001b[39mreturn\u001b[39;00m \u001b[39mself\u001b[39m\u001b[39m.\u001b[39m_accessor\n\u001b[1;32m--> 182\u001b[0m accessor_obj \u001b[39m=\u001b[39m \u001b[39mself\u001b[39;49m\u001b[39m.\u001b[39;49m_accessor(obj)\n\u001b[0;32m    183\u001b[0m \u001b[39m# Replace the property with the accessor object. Inspired by:\u001b[39;00m\n\u001b[0;32m    184\u001b[0m \u001b[39m# https://www.pydanny.com/cached-property.html\u001b[39;00m\n\u001b[0;32m    185\u001b[0m \u001b[39m# We need to use object.__setattr__ because we overwrite __setattr__ on\u001b[39;00m\n\u001b[0;32m    186\u001b[0m \u001b[39m# NDFrame\u001b[39;00m\n\u001b[0;32m    187\u001b[0m \u001b[39mobject\u001b[39m\u001b[39m.\u001b[39m\u001b[39m__setattr__\u001b[39m(obj, \u001b[39mself\u001b[39m\u001b[39m.\u001b[39m_name, accessor_obj)\n",
      "File \u001b[1;32mc:\\Users\\tiyan\\anaconda3\\envs\\new-env\\lib\\site-packages\\pandas\\core\\strings\\accessor.py:177\u001b[0m, in \u001b[0;36mStringMethods.__init__\u001b[1;34m(self, data)\u001b[0m\n\u001b[0;32m    174\u001b[0m \u001b[39mdef\u001b[39;00m \u001b[39m__init__\u001b[39m(\u001b[39mself\u001b[39m, data):\n\u001b[0;32m    175\u001b[0m     \u001b[39mfrom\u001b[39;00m \u001b[39mpandas\u001b[39;00m\u001b[39m.\u001b[39;00m\u001b[39mcore\u001b[39;00m\u001b[39m.\u001b[39;00m\u001b[39marrays\u001b[39;00m\u001b[39m.\u001b[39;00m\u001b[39mstring_\u001b[39;00m \u001b[39mimport\u001b[39;00m StringDtype\n\u001b[1;32m--> 177\u001b[0m     \u001b[39mself\u001b[39m\u001b[39m.\u001b[39m_inferred_dtype \u001b[39m=\u001b[39m \u001b[39mself\u001b[39;49m\u001b[39m.\u001b[39;49m_validate(data)\n\u001b[0;32m    178\u001b[0m     \u001b[39mself\u001b[39m\u001b[39m.\u001b[39m_is_categorical \u001b[39m=\u001b[39m is_categorical_dtype(data\u001b[39m.\u001b[39mdtype)\n\u001b[0;32m    179\u001b[0m     \u001b[39mself\u001b[39m\u001b[39m.\u001b[39m_is_string \u001b[39m=\u001b[39m \u001b[39misinstance\u001b[39m(data\u001b[39m.\u001b[39mdtype, StringDtype)\n",
      "File \u001b[1;32mc:\\Users\\tiyan\\anaconda3\\envs\\new-env\\lib\\site-packages\\pandas\\core\\strings\\accessor.py:231\u001b[0m, in \u001b[0;36mStringMethods._validate\u001b[1;34m(data)\u001b[0m\n\u001b[0;32m    228\u001b[0m inferred_dtype \u001b[39m=\u001b[39m lib\u001b[39m.\u001b[39minfer_dtype(values, skipna\u001b[39m=\u001b[39m\u001b[39mTrue\u001b[39;00m)\n\u001b[0;32m    230\u001b[0m \u001b[39mif\u001b[39;00m inferred_dtype \u001b[39mnot\u001b[39;00m \u001b[39min\u001b[39;00m allowed_types:\n\u001b[1;32m--> 231\u001b[0m     \u001b[39mraise\u001b[39;00m \u001b[39mAttributeError\u001b[39;00m(\u001b[39m\"\u001b[39m\u001b[39mCan only use .str accessor with string values!\u001b[39m\u001b[39m\"\u001b[39m)\n\u001b[0;32m    232\u001b[0m \u001b[39mreturn\u001b[39;00m inferred_dtype\n",
      "\u001b[1;31mAttributeError\u001b[0m: Can only use .str accessor with string values!"
     ]
    }
   ],
   "source": [
    "addCustomer('tiyani','mabunda','150')"
   ]
  },
  {
   "cell_type": "code",
   "execution_count": 2,
   "metadata": {},
   "outputs": [
    {
     "ename": "ValueError",
     "evalue": "All arrays must be of the same length",
     "output_type": "error",
     "traceback": [
      "\u001b[1;31m---------------------------------------------------------------------------\u001b[0m",
      "\u001b[1;31mValueError\u001b[0m                                Traceback (most recent call last)",
      "\u001b[1;32me:\\Projects\\candy-project\\parking-system-notebook.ipynb Cell 4\u001b[0m in \u001b[0;36m<cell line: 10>\u001b[1;34m()\u001b[0m\n\u001b[0;32m      <a href='vscode-notebook-cell:/e%3A/Projects/candy-project/parking-system-notebook.ipynb#X10sZmlsZQ%3D%3D?line=2'>3</a>\u001b[0m data \u001b[39m=\u001b[39m {\n\u001b[0;32m      <a href='vscode-notebook-cell:/e%3A/Projects/candy-project/parking-system-notebook.ipynb#X10sZmlsZQ%3D%3D?line=3'>4</a>\u001b[0m   \u001b[39m\"\u001b[39m\u001b[39mIdentifier\u001b[39m\u001b[39m\"\u001b[39m:[],\n\u001b[0;32m      <a href='vscode-notebook-cell:/e%3A/Projects/candy-project/parking-system-notebook.ipynb#X10sZmlsZQ%3D%3D?line=4'>5</a>\u001b[0m   \u001b[39m\"\u001b[39m\u001b[39mname\u001b[39m\u001b[39m\"\u001b[39m: [\u001b[39m420\u001b[39m, \u001b[39m380\u001b[39m, \u001b[39m390\u001b[39m],\n\u001b[0;32m      <a href='vscode-notebook-cell:/e%3A/Projects/candy-project/parking-system-notebook.ipynb#X10sZmlsZQ%3D%3D?line=5'>6</a>\u001b[0m   \u001b[39m\"\u001b[39m\u001b[39msurname\u001b[39m\u001b[39m\"\u001b[39m: [\u001b[39m50\u001b[39m, \u001b[39m40\u001b[39m, \u001b[39m45\u001b[39m],\n\u001b[0;32m      <a href='vscode-notebook-cell:/e%3A/Projects/candy-project/parking-system-notebook.ipynb#X10sZmlsZQ%3D%3D?line=6'>7</a>\u001b[0m }\n\u001b[0;32m      <a href='vscode-notebook-cell:/e%3A/Projects/candy-project/parking-system-notebook.ipynb#X10sZmlsZQ%3D%3D?line=8'>9</a>\u001b[0m \u001b[39m#load data into a DataFrame object:\u001b[39;00m\n\u001b[1;32m---> <a href='vscode-notebook-cell:/e%3A/Projects/candy-project/parking-system-notebook.ipynb#X10sZmlsZQ%3D%3D?line=9'>10</a>\u001b[0m df \u001b[39m=\u001b[39m pd\u001b[39m.\u001b[39;49mDataFrame(data)\n\u001b[0;32m     <a href='vscode-notebook-cell:/e%3A/Projects/candy-project/parking-system-notebook.ipynb#X10sZmlsZQ%3D%3D?line=11'>12</a>\u001b[0m \u001b[39mprint\u001b[39m(df)\n",
      "File \u001b[1;32mc:\\Users\\tiyan\\anaconda3\\envs\\new-env\\lib\\site-packages\\pandas\\core\\frame.py:636\u001b[0m, in \u001b[0;36mDataFrame.__init__\u001b[1;34m(self, data, index, columns, dtype, copy)\u001b[0m\n\u001b[0;32m    630\u001b[0m     mgr \u001b[39m=\u001b[39m \u001b[39mself\u001b[39m\u001b[39m.\u001b[39m_init_mgr(\n\u001b[0;32m    631\u001b[0m         data, axes\u001b[39m=\u001b[39m{\u001b[39m\"\u001b[39m\u001b[39mindex\u001b[39m\u001b[39m\"\u001b[39m: index, \u001b[39m\"\u001b[39m\u001b[39mcolumns\u001b[39m\u001b[39m\"\u001b[39m: columns}, dtype\u001b[39m=\u001b[39mdtype, copy\u001b[39m=\u001b[39mcopy\n\u001b[0;32m    632\u001b[0m     )\n\u001b[0;32m    634\u001b[0m \u001b[39melif\u001b[39;00m \u001b[39misinstance\u001b[39m(data, \u001b[39mdict\u001b[39m):\n\u001b[0;32m    635\u001b[0m     \u001b[39m# GH#38939 de facto copy defaults to False only in non-dict cases\u001b[39;00m\n\u001b[1;32m--> 636\u001b[0m     mgr \u001b[39m=\u001b[39m dict_to_mgr(data, index, columns, dtype\u001b[39m=\u001b[39;49mdtype, copy\u001b[39m=\u001b[39;49mcopy, typ\u001b[39m=\u001b[39;49mmanager)\n\u001b[0;32m    637\u001b[0m \u001b[39melif\u001b[39;00m \u001b[39misinstance\u001b[39m(data, ma\u001b[39m.\u001b[39mMaskedArray):\n\u001b[0;32m    638\u001b[0m     \u001b[39mimport\u001b[39;00m \u001b[39mnumpy\u001b[39;00m\u001b[39m.\u001b[39;00m\u001b[39mma\u001b[39;00m\u001b[39m.\u001b[39;00m\u001b[39mmrecords\u001b[39;00m \u001b[39mas\u001b[39;00m \u001b[39mmrecords\u001b[39;00m\n",
      "File \u001b[1;32mc:\\Users\\tiyan\\anaconda3\\envs\\new-env\\lib\\site-packages\\pandas\\core\\internals\\construction.py:502\u001b[0m, in \u001b[0;36mdict_to_mgr\u001b[1;34m(data, index, columns, dtype, typ, copy)\u001b[0m\n\u001b[0;32m    494\u001b[0m     arrays \u001b[39m=\u001b[39m [\n\u001b[0;32m    495\u001b[0m         x\n\u001b[0;32m    496\u001b[0m         \u001b[39mif\u001b[39;00m \u001b[39mnot\u001b[39;00m \u001b[39mhasattr\u001b[39m(x, \u001b[39m\"\u001b[39m\u001b[39mdtype\u001b[39m\u001b[39m\"\u001b[39m) \u001b[39mor\u001b[39;00m \u001b[39mnot\u001b[39;00m \u001b[39misinstance\u001b[39m(x\u001b[39m.\u001b[39mdtype, ExtensionDtype)\n\u001b[0;32m    497\u001b[0m         \u001b[39melse\u001b[39;00m x\u001b[39m.\u001b[39mcopy()\n\u001b[0;32m    498\u001b[0m         \u001b[39mfor\u001b[39;00m x \u001b[39min\u001b[39;00m arrays\n\u001b[0;32m    499\u001b[0m     ]\n\u001b[0;32m    500\u001b[0m     \u001b[39m# TODO: can we get rid of the dt64tz special case above?\u001b[39;00m\n\u001b[1;32m--> 502\u001b[0m \u001b[39mreturn\u001b[39;00m arrays_to_mgr(arrays, columns, index, dtype\u001b[39m=\u001b[39;49mdtype, typ\u001b[39m=\u001b[39;49mtyp, consolidate\u001b[39m=\u001b[39;49mcopy)\n",
      "File \u001b[1;32mc:\\Users\\tiyan\\anaconda3\\envs\\new-env\\lib\\site-packages\\pandas\\core\\internals\\construction.py:120\u001b[0m, in \u001b[0;36marrays_to_mgr\u001b[1;34m(arrays, columns, index, dtype, verify_integrity, typ, consolidate)\u001b[0m\n\u001b[0;32m    117\u001b[0m \u001b[39mif\u001b[39;00m verify_integrity:\n\u001b[0;32m    118\u001b[0m     \u001b[39m# figure out the index, if necessary\u001b[39;00m\n\u001b[0;32m    119\u001b[0m     \u001b[39mif\u001b[39;00m index \u001b[39mis\u001b[39;00m \u001b[39mNone\u001b[39;00m:\n\u001b[1;32m--> 120\u001b[0m         index \u001b[39m=\u001b[39m _extract_index(arrays)\n\u001b[0;32m    121\u001b[0m     \u001b[39melse\u001b[39;00m:\n\u001b[0;32m    122\u001b[0m         index \u001b[39m=\u001b[39m ensure_index(index)\n",
      "File \u001b[1;32mc:\\Users\\tiyan\\anaconda3\\envs\\new-env\\lib\\site-packages\\pandas\\core\\internals\\construction.py:674\u001b[0m, in \u001b[0;36m_extract_index\u001b[1;34m(data)\u001b[0m\n\u001b[0;32m    672\u001b[0m lengths \u001b[39m=\u001b[39m \u001b[39mlist\u001b[39m(\u001b[39mset\u001b[39m(raw_lengths))\n\u001b[0;32m    673\u001b[0m \u001b[39mif\u001b[39;00m \u001b[39mlen\u001b[39m(lengths) \u001b[39m>\u001b[39m \u001b[39m1\u001b[39m:\n\u001b[1;32m--> 674\u001b[0m     \u001b[39mraise\u001b[39;00m \u001b[39mValueError\u001b[39;00m(\u001b[39m\"\u001b[39m\u001b[39mAll arrays must be of the same length\u001b[39m\u001b[39m\"\u001b[39m)\n\u001b[0;32m    676\u001b[0m \u001b[39mif\u001b[39;00m have_dicts:\n\u001b[0;32m    677\u001b[0m     \u001b[39mraise\u001b[39;00m \u001b[39mValueError\u001b[39;00m(\n\u001b[0;32m    678\u001b[0m         \u001b[39m\"\u001b[39m\u001b[39mMixing dicts with non-Series may lead to ambiguous ordering.\u001b[39m\u001b[39m\"\u001b[39m\n\u001b[0;32m    679\u001b[0m     )\n",
      "\u001b[1;31mValueError\u001b[0m: All arrays must be of the same length"
     ]
    }
   ],
   "source": [
    "\n",
    "\n",
    "data = {\n",
    "  \"Identifier\":['user1',],\n",
    "  \"name\": [420, 380, 390],\n",
    "  \"surname\": [50, 40, 45],\n",
    "}\n",
    "\n",
    "#load data into a DataFrame object:\n",
    "df = pd.DataFrame(data)\n",
    "\n",
    "print(df) "
   ]
  },
  {
   "cell_type": "code",
   "execution_count": null,
   "metadata": {},
   "outputs": [],
   "source": [
    "#initialize qr object\n",
    "def SaveQrCode(data): \n",
    "    qr = qrcode.QRCode(\n",
    "        version =1,\n",
    "        box_size =10,\n",
    "        border=6)\n",
    "\n",
    "\n",
    "    #add data to qr code\n",
    "    qr.add_data(data)\n",
    "    qr.make(fit=True)\n",
    "\n",
    "    #create an image of qr code\n",
    "    image = qr.make_image(fill_color=\"black\", back_color= \"white\")\n",
    "\n",
    "    #save on the local machine\n",
    "    image.save(\"TGBqrcode.png\")\n",
    "    print(\"QR code has been generated successfully!\")"
   ]
  },
  {
   "cell_type": "code",
   "execution_count": null,
   "metadata": {},
   "outputs": [],
   "source": [
    "def ReadQrCode():\n",
    "    #load qr code imge\n",
    "    image = Image.open(\"TGBqrcode.png\") \n",
    "\n",
    "    qr_code = pyzbar.decode(image)[0]\n",
    "\n",
    "    #convert into string\n",
    "    data= qr_code.data.decode(\"utf-8\")\n",
    "    type = qr_code.type\n",
    "    text = f\"{type}-->, {data}\"\n",
    "    balance = text.split(\",\")[2]\n",
    "    SaveQrCode(\"car1,\"+str(int(balance)-10))\n",
    "    image.close()\n",
    "   \n",
    "    print(\"New balance = R\"+balance)\n",
    "    print(\"----\")"
   ]
  },
  {
   "cell_type": "code",
   "execution_count": null,
   "metadata": {},
   "outputs": [],
   "source": [
    "Price = 5 # will differ by how much a customer spend in the parking lot"
   ]
  },
  {
   "cell_type": "code",
   "execution_count": null,
   "metadata": {},
   "outputs": [],
   "source": [
    "conectionToArduino = serial.Serial('com6',9600) \n",
    " \n",
    "while (True) :\n",
    "    if(conectionToArduino.inWaiting()>0):\n",
    "        instructions = conectionToArduino.readline()\n",
    "        # camera section \n",
    "\n",
    "        loop = True # ftor controlling web cam\n",
    "        cam = cv2.VideoCapture(0)\n",
    "        scanner = cv2.QRCodeDetector()\n",
    "\n",
    "        while loop:\n",
    "            _,img = cam.read()\n",
    "            data,_,_ = scanner.detectAndDecode(img)\n",
    "            cv2.imshow(\"QRCODE\",img)\n",
    "            cv2.waitKey(500)\n",
    "            if data :\n",
    "                print(str(data))\n",
    "                name, balance, status , timeTrack  = str(data).split(\",\")\n",
    "\n",
    "                numeric_balance = int(balance)\n",
    "                ##SaveQrCode(0)\n",
    "                loop = False\n",
    "                if(int(status) == 1):\n",
    "                    timeSpent= abs(time()-int(timeTrack) )\n",
    "                    print(\"time spent = \"+str(timeSpent)+\"seconds\")\n",
    "                    if timeSpent < 5:\n",
    "                        numeric_balance = int(numeric_balance) - Price\n",
    "                    elif timeSpent >= 5 and timeSpent <10:\n",
    "                        numeric_balance = int(numeric_balance) -( Price*2)\n",
    "                    else:\n",
    "                        numeric_balance = numeric_balance - (Price*3)\n",
    "\n",
    "                    SaveQrCode(name+\",\"+str(numeric_balance)+\",0,0\")\n",
    "                    ReadQrCode()\n",
    "                    \n",
    "                else:\n",
    "                    SaveQrCode(name+\",\"+str(int(numeric_balance))+\",1,\"+str(round(time())))\n",
    "\n",
    "                break \n",
    "            \n",
    "        if cv2.waitKey(1) & 0xFF == 27:\n",
    "            break\n",
    "cv2.destroyAllWindows()\n",
    "        \n",
    "        \n",
    "     "
   ]
  }
 ],
 "metadata": {
  "kernelspec": {
   "display_name": "Python 3.10.4 ('new-env')",
   "language": "python",
   "name": "python3"
  },
  "language_info": {
   "codemirror_mode": {
    "name": "ipython",
    "version": 3
   },
   "file_extension": ".py",
   "mimetype": "text/x-python",
   "name": "python",
   "nbconvert_exporter": "python",
   "pygments_lexer": "ipython3",
   "version": "3.10.4"
  },
  "orig_nbformat": 4,
  "vscode": {
   "interpreter": {
    "hash": "83644a0fbd9933bfd82235b12176084926b40c2b5076544cfb55d0f0381ffd84"
   }
  }
 },
 "nbformat": 4,
 "nbformat_minor": 2
}
